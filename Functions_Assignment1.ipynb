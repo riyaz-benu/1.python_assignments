{
 "cells": [
  {
   "cell_type": "code",
   "execution_count": 6,
   "id": "65a5e23e-b102-42e9-bb92-c8e0a8090a20",
   "metadata": {},
   "outputs": [
    {
     "name": "stdout",
     "output_type": "stream",
     "text": [
      "Sub-Fields in AI are:\n",
      "Machine Learning\n",
      "Neural Networks\n",
      "Vision\n",
      "Robotics\n",
      "Speech Processing\n",
      "Natural Language Processing\n"
     ]
    }
   ],
   "source": [
    "\n",
    "    def subfields():\n",
    "        AI_subfields=[\"Machine Learning\", \"Neural Networks\", \"Vision\",\n",
    "                  \"Robotics\", \"Speech Processing\",\n",
    "                  \"Natural Language Processing\"]\n",
    "        for x in AI_subfields:\n",
    "            print(x)\n",
    "        return x    \n",
    "        \n",
    "print(\"Sub-Fields in AI are:\")\n",
    "SubfieldsINAI = subfields()"
   ]
  },
  {
   "cell_type": "code",
   "execution_count": 7,
   "id": "1b1dd024-1926-4f0c-966c-813e5dc60fa1",
   "metadata": {},
   "outputs": [
    {
     "name": "stdin",
     "output_type": "stream",
     "text": [
      "Enter a number:  52452\n"
     ]
    },
    {
     "name": "stdout",
     "output_type": "stream",
     "text": [
      "52452 is Even number\n"
     ]
    }
   ],
   "source": [
    "def oddEven():\n",
    "    number=int(input(\"Enter a number: \"))\n",
    "    if (number%2==0):\n",
    "        print(f\"{number} is Even number\")\n",
    "    else:\n",
    "        print(f\"{number} is Odd number\")\n",
    "    return number\n",
    "\n",
    "OddEven = oddEven()"
   ]
  },
  {
   "cell_type": "code",
   "execution_count": 8,
   "id": "9a9d822b-9620-4048-bd67-ffcbfbad70b7",
   "metadata": {},
   "outputs": [
    {
     "name": "stdin",
     "output_type": "stream",
     "text": [
      "Enter your Gender:  male\n",
      "Enter your age:  20\n"
     ]
    },
    {
     "name": "stdout",
     "output_type": "stream",
     "text": [
      "Not eligible for marriage\n"
     ]
    }
   ],
   "source": [
    "def Eligible():\n",
    "    gender = input(\"Enter your Gender: \").lower()\n",
    "    age=int(input(\"Enter your age: \"))\n",
    "    if gender=='male'and age>=21:\n",
    "        print(\"Eligible for marriage\")\n",
    "        cond = \"Eligible\"\n",
    "    elif gender=='female' and age>=18:\n",
    "        print(\"Eligible for marriage\")\n",
    "        cond = \"Eligible\"\n",
    "    else:\n",
    "        print(\"Not eligible for marriage\")\n",
    "        cond = \"Not Eligible\"\n",
    "    return cond\n",
    "\n",
    "Eligible_for_marriage= Eligible()\n"
   ]
  },
  {
   "cell_type": "code",
   "execution_count": 9,
   "id": "663685c5-c418-4e10-85cc-6a87136c626e",
   "metadata": {},
   "outputs": [
    {
     "name": "stdin",
     "output_type": "stream",
     "text": [
      "subject1=  98\n",
      "subject2=  87\n",
      "subject3=  95\n",
      "subject4=  95\n",
      "subject5=  93\n"
     ]
    },
    {
     "name": "stdout",
     "output_type": "stream",
     "text": [
      "Total : 468\n",
      "Percentage :  93.59999999999999\n"
     ]
    }
   ],
   "source": [
    "def percentage():\n",
    "    subject_list=[]\n",
    "    Total=0\n",
    "    for  x in range(1, 6):\n",
    "        mark = int(input(f\"subject{x}= \"))\n",
    "        subject_list.append(mark)\n",
    "        Total +=mark\n",
    "\n",
    "\n",
    "    print(f\"Total : {Total}\")\n",
    "    Percentage = Total / 5.0\n",
    "    print(\"Percentage : \",format(Percentage, '.14f'))\n",
    "    return Total\n",
    "\n",
    "FindPercent = percentage()"
   ]
  },
  {
   "cell_type": "code",
   "execution_count": 10,
   "id": "7753db0e-0fd2-4a0f-8da6-3d741e4cd671",
   "metadata": {},
   "outputs": [
    {
     "name": "stdin",
     "output_type": "stream",
     "text": [
      "Height:  32\n",
      "Breadth:  34\n"
     ]
    },
    {
     "name": "stdout",
     "output_type": "stream",
     "text": [
      "Area formula: (Height*Breadth)/2\n",
      "Area of Triangle: 544.0\n"
     ]
    },
    {
     "name": "stdin",
     "output_type": "stream",
     "text": [
      "Height1:  2\n",
      "Height2:  4\n",
      "Breadth:  4\n"
     ]
    },
    {
     "name": "stdout",
     "output_type": "stream",
     "text": [
      "Perimeter formula : Height1+Height2+Breadth\n",
      "Perimeter of Triangle:10\n"
     ]
    }
   ],
   "source": [
    "def triangle():\n",
    "    height=int(input(\"Height: \"))\n",
    "    breadth=int(input(\"Breadth: \"))\n",
    "    print(\"Area formula: (Height*Breadth)/2\")\n",
    "    area_triangle = (height*breadth)/2\n",
    "    print(f\"Area of Triangle: {area_triangle}\")\n",
    "    height1=int(input(\"Height1: \"))\n",
    "    height2=int(input(\"Height2: \"))\n",
    "    breadth1=int(input(\"Breadth: \"))\n",
    "    print(\"Perimeter formula : Height1+Height2+Breadth\")\n",
    "    perimeter_triangle=height1+height2+breadth1\n",
    "    print(f\"Perimeter of Triangle:{perimeter_triangle}\")\n",
    "    return perimeter_triangle\n",
    "\n",
    "triangle = triangle()"
   ]
  },
  {
   "cell_type": "code",
   "execution_count": null,
   "id": "5fac2fe8-c893-43dc-aaa2-d523cb7641b9",
   "metadata": {},
   "outputs": [],
   "source": []
  },
  {
   "cell_type": "code",
   "execution_count": null,
   "id": "bcb7cce5-44e8-470b-834e-254e2c4605f1",
   "metadata": {},
   "outputs": [],
   "source": []
  },
  {
   "cell_type": "code",
   "execution_count": null,
   "id": "8aa127f1-6eaf-48c9-ae01-8ac3a33d41c2",
   "metadata": {},
   "outputs": [],
   "source": []
  },
  {
   "cell_type": "code",
   "execution_count": null,
   "id": "c10713f9-4382-4504-bd05-eb3cab2b9bd9",
   "metadata": {},
   "outputs": [],
   "source": []
  },
  {
   "cell_type": "code",
   "execution_count": null,
   "id": "9fd9542b-c850-4a4a-a952-724effc4cfe9",
   "metadata": {},
   "outputs": [],
   "source": []
  },
  {
   "cell_type": "code",
   "execution_count": null,
   "id": "01ca3e29-4a0e-435d-b519-08f9078aa4c1",
   "metadata": {},
   "outputs": [],
   "source": []
  }
 ],
 "metadata": {
  "kernelspec": {
   "display_name": "Python 3 (ipykernel)",
   "language": "python",
   "name": "python3"
  },
  "language_info": {
   "codemirror_mode": {
    "name": "ipython",
    "version": 3
   },
   "file_extension": ".py",
   "mimetype": "text/x-python",
   "name": "python",
   "nbconvert_exporter": "python",
   "pygments_lexer": "ipython3",
   "version": "3.12.4"
  }
 },
 "nbformat": 4,
 "nbformat_minor": 5
}
