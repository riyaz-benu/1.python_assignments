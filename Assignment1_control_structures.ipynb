{
 "cells": [
  {
   "cell_type": "code",
   "execution_count": 1,
   "id": "5e2d686c-2521-4321-9561-6153c10086bc",
   "metadata": {},
   "outputs": [
    {
     "name": "stdout",
     "output_type": "stream",
     "text": [
      "Welcome to Assignment-1\n"
     ]
    }
   ],
   "source": [
    "print(\"Welcome to Assignment-1\")      "
   ]
  },
  {
   "cell_type": "code",
   "execution_count": 4,
   "id": "c6d9eaf8-0691-4097-8945-15d93de02b4c",
   "metadata": {},
   "outputs": [
    {
     "name": "stdout",
     "output_type": "stream",
     "text": [
      "Num1 = 10\n",
      "Num2 = 30\n",
      "Add = 40\n"
     ]
    }
   ],
   "source": [
    "Num1 = 10\n",
    "print(f\"Num1 = {Num1}\")\n",
    "Num2 = 30\n",
    "print(f\"Num2 = {Num2}\")\n",
    "Add = Num1+Num2\n",
    "print(f\"Add = {Add}\")\n"
   ]
  },
  {
   "cell_type": "code",
   "execution_count": null,
   "id": "7c3e8440-fd4d-43bc-b7a2-e71542383f8e",
   "metadata": {},
   "outputs": [],
   "source": [
    "# Body Mass Index"
   ]
  },
  {
   "cell_type": "code",
   "execution_count": 5,
   "id": "c10a71c7-8e82-4753-a25f-f6928b88ee57",
   "metadata": {},
   "outputs": [
    {
     "name": "stdin",
     "output_type": "stream",
     "text": [
      " Enter the BMI index:  34\n"
     ]
    },
    {
     "name": "stdout",
     "output_type": "stream",
     "text": [
      "Very Overweight or Obesity class I\n"
     ]
    }
   ],
   "source": [
    "bmi = float(input(\" Enter the BMI index: \"))\n",
    "if (bmi<18.5):\n",
    "    print(\"Underweight\")\n",
    "elif (bmi<=24.9):\n",
    "    print(\"Normal Weight\")\n",
    "elif (bmi<=29.9):\n",
    "    print(\"Overweight\")\n",
    "elif (bmi<=34.9):\n",
    "    print(\"Very Overweight or Obesity class I\")\n",
    "elif (bmi<=39.9):\n",
    "    print(\"Obesity Class II\")\n",
    "else:\n",
    "    print(\"Obesity class III\")\n",
    "          "
   ]
  },
  {
   "cell_type": "code",
   "execution_count": null,
   "id": "34554c02-dcf2-49d1-a7b6-c4a6e2a895f7",
   "metadata": {},
   "outputs": [],
   "source": []
  }
 ],
 "metadata": {
  "kernelspec": {
   "display_name": "Python 3 (ipykernel)",
   "language": "python",
   "name": "python3"
  },
  "language_info": {
   "codemirror_mode": {
    "name": "ipython",
    "version": 3
   },
   "file_extension": ".py",
   "mimetype": "text/x-python",
   "name": "python",
   "nbconvert_exporter": "python",
   "pygments_lexer": "ipython3",
   "version": "3.12.4"
  }
 },
 "nbformat": 4,
 "nbformat_minor": 5
}
