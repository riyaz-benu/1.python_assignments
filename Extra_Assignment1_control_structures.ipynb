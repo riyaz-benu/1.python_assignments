{
 "cells": [
  {
   "cell_type": "code",
   "execution_count": null,
   "id": "22b694e6-3047-48b6-a795-8ed9e507b97a",
   "metadata": {},
   "outputs": [],
   "source": [
    "#print statement"
   ]
  },
  {
   "cell_type": "code",
   "execution_count": 1,
   "id": "894b3c76-6c63-4fd9-bf94-d984950c88e0",
   "metadata": {},
   "outputs": [
    {
     "name": "stdout",
     "output_type": "stream",
     "text": [
      "HOPE AI\n"
     ]
    }
   ],
   "source": [
    "print(\"HOPE AI\")"
   ]
  },
  {
   "cell_type": "code",
   "execution_count": null,
   "id": "3ac50fdd-a51b-403f-a36b-37daed18e4f6",
   "metadata": {},
   "outputs": [],
   "source": [
    "#Buy Input"
   ]
  },
  {
   "cell_type": "code",
   "execution_count": null,
   "id": "84b3fa30-17cc-4434-9d9e-a43b963b6ada",
   "metadata": {},
   "outputs": [],
   "source": [
    "name = input(\"Enter Your Institute Name?: \")"
   ]
  },
  {
   "cell_type": "code",
   "execution_count": null,
   "id": "a5888d4f-b604-4c91-8afa-7cf13015c3cf",
   "metadata": {},
   "outputs": [],
   "source": [
    "# Buy Inputs"
   ]
  },
  {
   "cell_type": "code",
   "execution_count": 1,
   "id": "dcf5ae5e-d080-46fb-89ad-5d248f05e438",
   "metadata": {},
   "outputs": [
    {
     "name": "stdin",
     "output_type": "stream",
     "text": [
      "Enter your name:  Raj\n",
      "Enter your age:  15\n",
      "Enter your school name:  Guru School\n",
      " Enter your degree:  B.E. CSE\n"
     ]
    }
   ],
   "source": [
    "name1=input(\"Enter your name: \")\n",
    "Age=int(input(\"Enter your age: \"))\n",
    "School_name=input(\"Enter your school name: \")\n",
    "degree =input(\" Enter your degree: \")\n",
    "        "
   ]
  },
  {
   "cell_type": "code",
   "execution_count": null,
   "id": "f6382b77-2117-4aba-9464-9d1e6f36b10a",
   "metadata": {},
   "outputs": [],
   "source": [
    "#Addition"
   ]
  },
  {
   "cell_type": "code",
   "execution_count": 2,
   "id": "284abdb6-1394-445b-a1fb-8206d3080471",
   "metadata": {},
   "outputs": [
    {
     "name": "stdout",
     "output_type": "stream",
     "text": [
      "a = 43\n",
      "b= 34\n",
      "add= 77\n"
     ]
    }
   ],
   "source": [
    "a=43\n",
    "print(f\"a = {a}\")\n",
    "b=34\n",
    "print(f\"b= {b}\")\n",
    "add=a+b\n",
    "print(f\"add= {add}\")\n"
   ]
  },
  {
   "cell_type": "code",
   "execution_count": null,
   "id": "13d906ae-7599-4613-b582-bfb34affa916",
   "metadata": {},
   "outputs": [],
   "source": [
    "#subtraction"
   ]
  },
  {
   "cell_type": "code",
   "execution_count": 3,
   "id": "9f785303-27fe-45ed-99d3-73b723bd1c59",
   "metadata": {},
   "outputs": [
    {
     "name": "stdout",
     "output_type": "stream",
     "text": [
      "a = 43\n",
      "b= 34\n",
      "Sub= 9\n"
     ]
    }
   ],
   "source": [
    "a=43\n",
    "print(f\"a = {a}\")\n",
    "b=34\n",
    "print(f\"b= {b}\")\n",
    "Sub = a-b\n",
    "print(f\"Sub= {Sub}\")\n"
   ]
  },
  {
   "cell_type": "code",
   "execution_count": null,
   "id": "e3bd7e0b-d32b-4ace-84f4-874a7b17ecbb",
   "metadata": {},
   "outputs": [],
   "source": [
    "#multiplication"
   ]
  },
  {
   "cell_type": "code",
   "execution_count": 4,
   "id": "50fe681f-2d67-454a-9bf9-3df4a412248b",
   "metadata": {},
   "outputs": [
    {
     "name": "stdout",
     "output_type": "stream",
     "text": [
      "a = 63\n",
      "b= 97\n",
      "Mul = 6111\n"
     ]
    }
   ],
   "source": [
    "a=63\n",
    "print(f\"a = {a}\")\n",
    "b=97\n",
    "print(f\"b= {b}\")\n",
    "Mul  =a*b\n",
    "print(f\"Mul = {Mul}\")\n"
   ]
  },
  {
   "cell_type": "code",
   "execution_count": null,
   "id": "41239e68-15cf-4d0d-81a6-21c81cb93b82",
   "metadata": {},
   "outputs": [],
   "source": [
    "# Division"
   ]
  },
  {
   "cell_type": "code",
   "execution_count": 5,
   "id": "f764e926-1b4b-4edc-a5f5-5ff25cfb6cc1",
   "metadata": {},
   "outputs": [
    {
     "name": "stdout",
     "output_type": "stream",
     "text": [
      "a = 76\n",
      "b= 31\n",
      "Float Div= 2.4516129032258065\n"
     ]
    }
   ],
   "source": [
    "a=76\n",
    "print(f\"a = {a}\")\n",
    "b=31\n",
    "print(f\"b= {b}\")\n",
    "Float_Div = a/b\n",
    "print(f\"Float Div= {Float_Div}\")\n"
   ]
  },
  {
   "cell_type": "code",
   "execution_count": null,
   "id": "77ac78d0-525a-4a2c-81f9-5627aff01d5a",
   "metadata": {},
   "outputs": [],
   "source": [
    "#Floor division"
   ]
  },
  {
   "cell_type": "code",
   "execution_count": 6,
   "id": "96d55265-2543-4bb9-b340-7631a67ed070",
   "metadata": {},
   "outputs": [
    {
     "name": "stdout",
     "output_type": "stream",
     "text": [
      "a = 76\n",
      "b= 31\n",
      "Floor Div= 2\n"
     ]
    }
   ],
   "source": [
    "a=76\n",
    "print(f\"a = {a}\")\n",
    "b=31\n",
    "print(f\"b= {b}\")\n",
    "Floor_Div = a//b\n",
    "print(f\"Floor Div= {Floor_Div}\")"
   ]
  },
  {
   "cell_type": "code",
   "execution_count": null,
   "id": "7943e051-e4ab-4af7-8e07-8dfe6e48a2ec",
   "metadata": {},
   "outputs": [],
   "source": [
    "#Modulo"
   ]
  },
  {
   "cell_type": "code",
   "execution_count": 7,
   "id": "78ad2592-63dd-4940-b571-6916fd67e3b4",
   "metadata": {},
   "outputs": [
    {
     "name": "stdout",
     "output_type": "stream",
     "text": [
      "a = 76\n",
      "b= 31\n",
      "Modulo= 14\n"
     ]
    }
   ],
   "source": [
    "a=76\n",
    "print(f\"a = {a}\")\n",
    "b=31\n",
    "print(f\"b= {b}\")\n",
    "Modulo = a%b\n",
    "print(f\"Modulo= {Modulo}\")"
   ]
  },
  {
   "cell_type": "code",
   "execution_count": null,
   "id": "80fa8ee3-b940-42a9-9a8c-67d018d47803",
   "metadata": {},
   "outputs": [],
   "source": [
    "#power"
   ]
  },
  {
   "cell_type": "code",
   "execution_count": 8,
   "id": "b07d1b2b-2cda-4fc9-99cb-907458b784b1",
   "metadata": {},
   "outputs": [
    {
     "name": "stdout",
     "output_type": "stream",
     "text": [
      "a = 4\n",
      "b= 4\n",
      "Power= 256\n"
     ]
    }
   ],
   "source": [
    "a=4\n",
    "print(f\"a = {a}\")\n",
    "b=4\n",
    "print(f\"b= {b}\")\n",
    "power=pow(a,b)\n",
    "print(f\"Power= {power}\")"
   ]
  },
  {
   "cell_type": "code",
   "execution_count": null,
   "id": "e1f45a41-8c06-439d-ba92-78753fb27e12",
   "metadata": {},
   "outputs": [],
   "source": []
  }
 ],
 "metadata": {
  "kernelspec": {
   "display_name": "Python 3 (ipykernel)",
   "language": "python",
   "name": "python3"
  },
  "language_info": {
   "codemirror_mode": {
    "name": "ipython",
    "version": 3
   },
   "file_extension": ".py",
   "mimetype": "text/x-python",
   "name": "python",
   "nbconvert_exporter": "python",
   "pygments_lexer": "ipython3",
   "version": "3.12.4"
  }
 },
 "nbformat": 4,
 "nbformat_minor": 5
}
