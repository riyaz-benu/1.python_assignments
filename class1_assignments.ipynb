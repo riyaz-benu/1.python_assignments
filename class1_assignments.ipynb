{
 "cells": [
  {
   "cell_type": "code",
   "execution_count": 8,
   "id": "f0ed70f7-72e2-4a1d-b00e-065dc2388736",
   "metadata": {},
   "outputs": [
    {
     "name": "stdout",
     "output_type": "stream",
     "text": [
      "Sub-Fields in AI are:\n",
      "Machine Learning\n",
      "Neural Networks\n",
      "Vision\n",
      "Robotics\n",
      "Speech Processing\n",
      "Natural Language Processing\n"
     ]
    }
   ],
   "source": [
    "class SubfieldsINAI():\n",
    "    def subfields():\n",
    "        print(\"Sub-Fields in AI are:\")\n",
    "        AI_subfields = [\"Machine Learning\", \"Neural Networks\", \"Vision\",\n",
    "                        \"Robotics\", \"Speech Processing\",\n",
    "                        \"Natural Language Processing\"]\n",
    "        for x in AI_subfields:\n",
    "            print(x)\n",
    "        return x\n",
    "\n",
    "result = SubfieldsINAI.subfields()"
   ]
  },
  {
   "cell_type": "code",
   "execution_count": 7,
   "id": "972acd74-f2cc-484c-92ed-dc725e97b4e3",
   "metadata": {},
   "outputs": [
    {
     "name": "stdin",
     "output_type": "stream",
     "text": [
      "Enter a number:  52452\n"
     ]
    },
    {
     "name": "stdout",
     "output_type": "stream",
     "text": [
      "52452 is Even number\n"
     ]
    }
   ],
   "source": [
    "class OddEven():\n",
    "    def oddEven():\n",
    "        number=int(input(\"Enter a number: \"))\n",
    "        if (number%2==0):\n",
    "            print(f\"{number} is Even number\")\n",
    "        else:\n",
    "            print(f\"{number} is Odd number\")\n",
    "        return number\n",
    "\n",
    "result = OddEven.oddEven()"
   ]
  },
  {
   "cell_type": "code",
   "execution_count": 3,
   "id": "a3100e1d-be43-4f23-b089-907947657d9c",
   "metadata": {},
   "outputs": [
    {
     "name": "stdin",
     "output_type": "stream",
     "text": [
      "Enter your Gender:  male\n",
      "Enter your age:  20\n"
     ]
    },
    {
     "name": "stdout",
     "output_type": "stream",
     "text": [
      "Not eligible for marriage\n"
     ]
    }
   ],
   "source": [
    "class Eligible_for_marriage():\n",
    "    def Eligible():\n",
    "        gender = input(\"Enter your Gender: \").lower()\n",
    "        age=int(input(\"Enter your age: \"))\n",
    "        if gender=='male'and age>=21:\n",
    "            print(\"Eligible for marriage\")\n",
    "            cond = \"Eligible\"\n",
    "        elif gender=='female' and age>=18:\n",
    "            print(\"Eligible for marriage\")\n",
    "            cond = \"Eligible\"\n",
    "        else:\n",
    "            print(\"Not eligible for marriage\")\n",
    "            cond = \"Not Eligible\"\n",
    "        return cond\n",
    "\n",
    "Member= Eligible_for_marriage.Eligible()"
   ]
  },
  {
   "cell_type": "code",
   "execution_count": 5,
   "id": "66c18159-781c-458e-b20a-f46fad50d41f",
   "metadata": {},
   "outputs": [
    {
     "name": "stdin",
     "output_type": "stream",
     "text": [
      "subject1=  98\n",
      "subject2=  87\n",
      "subject3=  95\n",
      "subject4=  95\n",
      "subject5=  93\n"
     ]
    },
    {
     "name": "stdout",
     "output_type": "stream",
     "text": [
      "Total : 468\n",
      "Percentage :  93.59999999999999\n"
     ]
    }
   ],
   "source": [
    "class FindPercent():\n",
    "    def percentage():\n",
    "        subject_list=[]\n",
    "        Total=0\n",
    "        for  x in range(1, 6):\n",
    "            mark = int(input(f\"subject{x}= \"))\n",
    "            subject_list.append(mark)\n",
    "            Total +=mark\n",
    "\n",
    "\n",
    "        print(f\"Total : {Total}\")\n",
    "        Percentage = Total / 5.0\n",
    "        print(\"Percentage : \",format(Percentage, '.14f'))\n",
    "        return Total\n",
    "\n",
    "Total_mark = FindPercent.percentage()"
   ]
  },
  {
   "cell_type": "code",
   "execution_count": 6,
   "id": "9f2d207e-37dc-44c0-b2f0-25de2fcad71e",
   "metadata": {},
   "outputs": [
    {
     "name": "stdin",
     "output_type": "stream",
     "text": [
      "Height:  32\n",
      "Breadth:  34\n"
     ]
    },
    {
     "name": "stdout",
     "output_type": "stream",
     "text": [
      "Area formula: (Height*Breadth)/2\n",
      "Area of Triangle: 544.0\n"
     ]
    },
    {
     "name": "stdin",
     "output_type": "stream",
     "text": [
      "Height1:  2\n",
      "Height2:  4\n",
      "Breadth:  4\n"
     ]
    },
    {
     "name": "stdout",
     "output_type": "stream",
     "text": [
      "Perimeter formula : Height1+Height2+Breadth\n",
      "Perimeter of Triangle:10\n"
     ]
    }
   ],
   "source": [
    "class Triangle():\n",
    "    def triangle():\n",
    "        height=int(input(\"Height: \"))\n",
    "        breadth=int(input(\"Breadth: \"))\n",
    "        print(\"Area formula: (Height*Breadth)/2\")\n",
    "        area_triangle = (height*breadth)/2\n",
    "        print(f\"Area of Triangle: {area_triangle}\")\n",
    "        height1=int(input(\"Height1: \"))\n",
    "        height2=int(input(\"Height2: \"))\n",
    "        breadth1=int(input(\"Breadth: \"))\n",
    "        print(\"Perimeter formula : Height1+Height2+Breadth\")\n",
    "        perimeter_triangle=height1+height2+breadth1\n",
    "        print(f\"Perimeter of Triangle:{perimeter_triangle}\")\n",
    "        return perimeter_triangle\n",
    "\n",
    "Measurement = Triangle.triangle()"
   ]
  },
  {
   "cell_type": "code",
   "execution_count": null,
   "id": "5b3175a7-058c-44d3-93cf-7ab25418b611",
   "metadata": {},
   "outputs": [],
   "source": []
  }
 ],
 "metadata": {
  "kernelspec": {
   "display_name": "Python 3 (ipykernel)",
   "language": "python",
   "name": "python3"
  },
  "language_info": {
   "codemirror_mode": {
    "name": "ipython",
    "version": 3
   },
   "file_extension": ".py",
   "mimetype": "text/x-python",
   "name": "python",
   "nbconvert_exporter": "python",
   "pygments_lexer": "ipython3",
   "version": "3.12.4"
  }
 },
 "nbformat": 4,
 "nbformat_minor": 5
}
