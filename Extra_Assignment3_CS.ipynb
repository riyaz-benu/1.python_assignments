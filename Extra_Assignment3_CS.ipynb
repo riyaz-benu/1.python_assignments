{
 "cells": [
  {
   "cell_type": "code",
   "execution_count": null,
   "id": "95843c94-0c52-4d70-9087-e7413db9d5d7",
   "metadata": {},
   "outputs": [],
   "source": [
    "# print 'CORRECT' if i==10"
   ]
  },
  {
   "cell_type": "code",
   "execution_count": 1,
   "id": "69c94fc3-63e4-4417-9504-e77420bfed79",
   "metadata": {},
   "outputs": [
    {
     "name": "stdin",
     "output_type": "stream",
     "text": [
      "Value:  10\n"
     ]
    },
    {
     "name": "stdout",
     "output_type": "stream",
     "text": [
      "Correct\n"
     ]
    }
   ],
   "source": [
    "i=int(input(\"Value: \"))\n",
    "if (i==10):\n",
    "    print(\"Correct\")\n",
    "else:\n",
    "    print(\"Incorrect\")\n",
    "    "
   ]
  },
  {
   "cell_type": "code",
   "execution_count": 2,
   "id": "c10361cc-a33f-4dd3-8b41-6084a7a78227",
   "metadata": {},
   "outputs": [
    {
     "name": "stdin",
     "output_type": "stream",
     "text": [
      "Enter the password:  HOPE@123\n"
     ]
    },
    {
     "name": "stdout",
     "output_type": "stream",
     "text": [
      "Your password is correct\n"
     ]
    }
   ],
   "source": [
    "password = input(\"Enter the password: \")\n",
    "if (password == 'HOPE@123'):\n",
    "    print(\"Your password is correct\")\n",
    "else:\n",
    "    print(\"Incorrect password\")"
   ]
  },
  {
   "cell_type": "code",
   "execution_count": null,
   "id": "9dbbf1ac-b8b4-4d0e-b8a2-ceb936628a96",
   "metadata": {},
   "outputs": [],
   "source": [
    "#category the people by their age"
   ]
  },
  {
   "cell_type": "code",
   "execution_count": 3,
   "id": "ffdc4359-9370-481a-9355-9973d6b9a3a9",
   "metadata": {},
   "outputs": [
    {
     "name": "stdin",
     "output_type": "stream",
     "text": [
      "enter your age:  20\n"
     ]
    },
    {
     "name": "stdout",
     "output_type": "stream",
     "text": [
      "adult\n"
     ]
    }
   ],
   "source": [
    "age = int(input(\"enter your age: \"))\n",
    "if (age< 18):\n",
    "    print(\"children\")\n",
    "elif (age<35):\n",
    "    print(\"adult\")\n",
    "elif (age<59):\n",
    "    print(\"citizen\")\n",
    "else:\n",
    "    print(\"senior citizen\")"
   ]
  },
  {
   "cell_type": "code",
   "execution_count": null,
   "id": "17d2a1e4-bd55-43f8-8410-494f33984eca",
   "metadata": {},
   "outputs": [],
   "source": [
    "# Find whether given number is positive or negative"
   ]
  },
  {
   "cell_type": "code",
   "execution_count": 4,
   "id": "3ee24763-f177-4015-b755-5bf0e57be7d6",
   "metadata": {},
   "outputs": [
    {
     "name": "stdin",
     "output_type": "stream",
     "text": [
      "Enter any number:  1\n"
     ]
    },
    {
     "name": "stdout",
     "output_type": "stream",
     "text": [
      "No is positive\n"
     ]
    }
   ],
   "source": [
    "number=float(input(\"Enter any number: \"))\n",
    "if (number>0):\n",
    "    print(\"No is positive\")\n",
    "elif(number<0):\n",
    "    print(\"No is Negative\")\n",
    "else:\n",
    "    print(\"No is zero\")\n",
    "             "
   ]
  },
  {
   "cell_type": "code",
   "execution_count": null,
   "id": "162155ce-85b7-4855-adba-a36607db3f22",
   "metadata": {},
   "outputs": [],
   "source": [
    "# check whether the given number is divisible by 5"
   ]
  },
  {
   "cell_type": "code",
   "execution_count": 5,
   "id": "d34e21ef-765a-4516-b2b3-b17461bf251f",
   "metadata": {},
   "outputs": [
    {
     "name": "stdin",
     "output_type": "stream",
     "text": [
      "Enter a number to check:  22\n"
     ]
    },
    {
     "name": "stdout",
     "output_type": "stream",
     "text": [
      "No is not divisible by 5\n"
     ]
    }
   ],
   "source": [
    "number = int(input(\"Enter a number to check: \"))\n",
    "if (number%5==0):\n",
    "    print(\"No is divisible by 5\")\n",
    "else:\n",
    "    print(\"No is not divisible by 5\")\n",
    "             "
   ]
  },
  {
   "cell_type": "code",
   "execution_count": null,
   "id": "7d3571ad-bcc7-4c34-b645-ae58aa1fef80",
   "metadata": {},
   "outputs": [],
   "source": []
  }
 ],
 "metadata": {
  "kernelspec": {
   "display_name": "Python 3 (ipykernel)",
   "language": "python",
   "name": "python3"
  },
  "language_info": {
   "codemirror_mode": {
    "name": "ipython",
    "version": 3
   },
   "file_extension": ".py",
   "mimetype": "text/x-python",
   "name": "python",
   "nbconvert_exporter": "python",
   "pygments_lexer": "ipython3",
   "version": "3.12.4"
  }
 },
 "nbformat": 4,
 "nbformat_minor": 5
}
