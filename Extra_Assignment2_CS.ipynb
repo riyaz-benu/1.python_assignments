{
 "cells": [
  {
   "cell_type": "code",
   "execution_count": 1,
   "id": "cf664d3c-69ee-4f92-bd27-43b700548da8",
   "metadata": {},
   "outputs": [
    {
     "name": "stdout",
     "output_type": "stream",
     "text": [
      "0\n",
      "1\n",
      "2\n",
      "3\n",
      "4\n",
      "5\n",
      "6\n",
      "7\n",
      "8\n",
      "9\n",
      "10\n",
      "11\n",
      "12\n",
      "13\n",
      "14\n",
      "15\n",
      "16\n",
      "17\n",
      "18\n",
      "19\n"
     ]
    }
   ],
   "source": [
    "for temp in range(0,20):\n",
    "    print(temp)"
   ]
  },
  {
   "cell_type": "code",
   "execution_count": null,
   "id": "f860efdf-69e1-4ffe-9e99-b4a9db38c6cf",
   "metadata": {},
   "outputs": [],
   "source": [
    "#print range 10 to20"
   ]
  },
  {
   "cell_type": "code",
   "execution_count": 1,
   "id": "17e16cf3-0764-47c6-a5fc-2f3983791b35",
   "metadata": {},
   "outputs": [
    {
     "name": "stdout",
     "output_type": "stream",
     "text": [
      "10 11 12 13 14 15 16 17 18 19 "
     ]
    }
   ],
   "source": [
    "for temp in range(10,20):\n",
    "    print(temp,end=' ')\n"
   ]
  },
  {
   "cell_type": "code",
   "execution_count": 4,
   "id": "015c37bc-9c0d-42a6-aedc-a6ddd839fe05",
   "metadata": {},
   "outputs": [],
   "source": [
    "#print number of items in the list by using 'len'"
   ]
  },
  {
   "cell_type": "code",
   "execution_count": 2,
   "id": "a4a2ff45-65e3-459f-b210-be5dfd1bdae5",
   "metadata": {},
   "outputs": [
    {
     "name": "stdout",
     "output_type": "stream",
     "text": [
      "[10, 20, 14, 55, 43, 87, 76]\n",
      "Number of itemin the List2: 7\n"
     ]
    }
   ],
   "source": [
    "List2=[10, 20, 14, 55, 43, 87, 76]\n",
    "print(List2)\n",
    "length=len(List2)\n",
    "print(f\"Number of itemin the List2: {length}\")"
   ]
  },
  {
   "cell_type": "code",
   "execution_count": 4,
   "id": "94433281-c9de-420a-8b58-306b99d289f9",
   "metadata": {},
   "outputs": [
    {
     "name": "stdout",
     "output_type": "stream",
     "text": [
      "Artificial Intelligence\n",
      "A\n",
      "r\n",
      "t\n",
      "i\n",
      "f\n",
      "i\n",
      "c\n",
      "i\n",
      "a\n",
      "l\n",
      " \n",
      "I\n",
      "n\n",
      "t\n",
      "e\n",
      "l\n",
      "l\n",
      "i\n",
      "g\n",
      "e\n",
      "n\n",
      "c\n",
      "e\n"
     ]
    }
   ],
   "source": [
    "list=['A','r','t','i','f','i','c','i','a','l',' ',\n",
    "      'I','n','t','e','l','l','i','g','e','n','c','e']\n",
    "print(*list,sep='')\n",
    "for char in list:\n",
    "    print(char)\n"
   ]
  },
  {
   "cell_type": "code",
   "execution_count": 5,
   "id": "abc92738-9665-44f2-bb0d-53deb727f134",
   "metadata": {},
   "outputs": [
    {
     "name": "stdout",
     "output_type": "stream",
     "text": [
      "-Your Name-\n",
      "-Your Age-\n",
      "-Your Profession-\n"
     ]
    }
   ],
   "source": [
    "print(\"-Your Name-\")\n",
    "print(\"-Your Age-\")\n",
    "print(\"-Your Profession-\")"
   ]
  },
  {
   "cell_type": "code",
   "execution_count": null,
   "id": "94cdf409-5a2d-4ed0-a6bd-03bd764adcbd",
   "metadata": {},
   "outputs": [],
   "source": [
    "# print using tuples\n"
   ]
  },
  {
   "cell_type": "code",
   "execution_count": 7,
   "id": "4e80c882-0719-43be-abcc-5f30cb5d586c",
   "metadata": {},
   "outputs": [
    {
     "name": "stdout",
     "output_type": "stream",
     "text": [
      "(1, 'welcome', 2, 'HOPE')\n"
     ]
    }
   ],
   "source": [
    "tuple_list=(1,'welcome',2,'HOPE')\n",
    "print(f\"{tuple_list}\")"
   ]
  },
  {
   "cell_type": "code",
   "execution_count": 10,
   "id": "93742c90-d362-4789-aedf-8197fc894ca4",
   "metadata": {},
   "outputs": [
    {
     "name": "stdout",
     "output_type": "stream",
     "text": [
      "((0, 1, 2, 3), ('python', 'HOPE'))\n"
     ]
    }
   ],
   "source": [
    "tuple1=(0,1,2,3)\n",
    "list=['python','HOPE']\n",
    "tuple2=tuple(list)\n",
    "new_list=(tuple1, tuple2)\n",
    "print(new_list)\n"
   ]
  },
  {
   "cell_type": "code",
   "execution_count": null,
   "id": "c09f630d-ea56-494d-be4b-9c475931fea8",
   "metadata": {},
   "outputs": [],
   "source": [
    "#print odd number in the list"
   ]
  },
  {
   "cell_type": "code",
   "execution_count": 11,
   "id": "580e06e7-7142-47ef-9f48-7477d524450f",
   "metadata": {},
   "outputs": [
    {
     "name": "stdout",
     "output_type": "stream",
     "text": [
      "(20, 10, 16, 19, 25, 1, 276, 188)\n",
      "19 is odd\n",
      "25 is odd\n",
      "1 is odd\n"
     ]
    }
   ],
   "source": [
    "list= [20,10,16,19,25,1,276,188]\n",
    "print(tuple(list))\n",
    "for number in list:\n",
    "    if (number%2==1):\n",
    "        print(f\"{number} is odd\")\n",
    "        \n"
   ]
  },
  {
   "cell_type": "code",
   "execution_count": null,
   "id": "7fd5d396-69ac-4a5f-8ab8-7058dc24c3d2",
   "metadata": {},
   "outputs": [],
   "source": [
    "#print even number in the given list"
   ]
  },
  {
   "cell_type": "code",
   "execution_count": 12,
   "id": "3a7e5bd2-6950-4799-b920-75d246e67ffe",
   "metadata": {},
   "outputs": [
    {
     "name": "stdout",
     "output_type": "stream",
     "text": [
      "(20, 10, 16, 19, 25, 1, 276, 188)\n",
      "20 is Even Number\n",
      "10 is Even Number\n",
      "16 is Even Number\n",
      "276 is Even Number\n",
      "188 is Even Number\n"
     ]
    }
   ],
   "source": [
    "list= [20,10,16,19,25,1,276,188]\n",
    "print(tuple(list))\n",
    "for number in list:\n",
    "    if (number%2==0):\n",
    "        print(f\"{number} is Even Number\")\n",
    "        "
   ]
  },
  {
   "cell_type": "code",
   "execution_count": null,
   "id": "9635f76f-8c09-4221-abac-6f19f22e7d14",
   "metadata": {},
   "outputs": [],
   "source": []
  }
 ],
 "metadata": {
  "kernelspec": {
   "display_name": "Python 3 (ipykernel)",
   "language": "python",
   "name": "python3"
  },
  "language_info": {
   "codemirror_mode": {
    "name": "ipython",
    "version": 3
   },
   "file_extension": ".py",
   "mimetype": "text/x-python",
   "name": "python",
   "nbconvert_exporter": "python",
   "pygments_lexer": "ipython3",
   "version": "3.12.4"
  }
 },
 "nbformat": 4,
 "nbformat_minor": 5
}
